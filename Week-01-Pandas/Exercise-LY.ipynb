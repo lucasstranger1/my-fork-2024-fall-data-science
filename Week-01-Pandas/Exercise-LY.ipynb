{
 "cells": [
  {
   "cell_type": "markdown",
   "metadata": {},
   "source": [
    "# First print your name in the cell below then save this file. (or something nice about your instructor)"
   ]
  },
  {
   "cell_type": "code",
   "execution_count": 52,
   "metadata": {},
   "outputs": [
    {
     "name": "stdout",
     "output_type": "stream",
     "text": [
      "Lucas Yao\n"
     ]
    }
   ],
   "source": [
    "# In this cell print your name \n",
    "print(\"Lucas Yao\")\n"
   ]
  },
  {
   "cell_type": "markdown",
   "metadata": {},
   "source": [
    "# Data wrangling with Pandas exercise\n",
    "* For this exercise we will be using the `listings.csv` data file."
   ]
  },
  {
   "cell_type": "code",
   "execution_count": 53,
   "metadata": {},
   "outputs": [],
   "source": [
    "import pandas as pd\n",
    "import numpy as np"
   ]
  },
  {
   "cell_type": "code",
   "execution_count": 54,
   "metadata": {},
   "outputs": [
    {
     "name": "stdout",
     "output_type": "stream",
     "text": [
      "Lucas Yao\n"
     ]
    }
   ],
   "source": [
    "# In this cell print your name \n",
    "print(\"Lucas Yao\")\n"
   ]
  },
  {
   "cell_type": "markdown",
   "metadata": {},
   "source": [
    "# Load in the data file using `pd.read_csv()`"
   ]
  },
  {
   "cell_type": "code",
   "execution_count": 55,
   "metadata": {},
   "outputs": [],
   "source": [
    "# Load data \n",
    "df=pd.read_csv(\"data/listings.csv\")"
   ]
  },
  {
   "cell_type": "markdown",
   "metadata": {},
   "source": [
    "## Exercise 2 - Filtering\n",
    "\n",
    "Return the following subsets of the dataframe.\n",
    "\n",
    "1. How many listings are there with a price less than 100? \n",
    "\n",
    "\n",
    "2. Find how many listings there are in just Brooklyn.\n",
    "\n",
    "\n",
    "3. Find how many listings there are in Brooklyn with a price less than 100.\n",
    "\n",
    "\n",
    "4. Using `.isin()` select anyone that has the host name of Michael, David, John, and Daniel.\n",
    "\n",
    "\n",
    "5. Create a new column called `adjusted_price` that has $100 added to every listing in Williamsburg.  The prices for all other listings should be the same as the were before. \n",
    "\n",
    "\n",
    "6. What % of the rooms are private, and what % of the rooms are shared.  \n",
    "    * Hint, use `.value_counts()`\n"
   ]
  },
  {
   "cell_type": "code",
   "execution_count": 56,
   "metadata": {},
   "outputs": [
    {
     "name": "stdout",
     "output_type": "stream",
     "text": [
      "22778\n"
     ]
    }
   ],
   "source": [
    "# 1. How many listings are there with a price less than 100? \n",
    "\n",
    "print(df[df['price'] < 100].shape[0])\n"
   ]
  },
  {
   "cell_type": "code",
   "execution_count": 57,
   "metadata": {},
   "outputs": [
    {
     "name": "stdout",
     "output_type": "stream",
     "text": [
      "18632\n"
     ]
    }
   ],
   "source": [
    "# 2. Make a new DataFrame of listings in Brooklyn named `df_bk` \n",
    "# and find how many listings in just Brooklyn.\n",
    "df_bk = df[df['neighbourhood_group'] == 'Brooklyn']\n",
    "print(df_bk.shape[0])"
   ]
  },
  {
   "cell_type": "code",
   "execution_count": 58,
   "metadata": {},
   "outputs": [
    {
     "name": "stdout",
     "output_type": "stream",
     "text": [
      "10473\n"
     ]
    }
   ],
   "source": [
    "# 3. Find how many listings there are in Brooklyn with a price less than 100.\n",
    "df_bk_less_100 = df_bk[df_bk['price'] < 100]\n",
    "\n",
    "print(df_bk_less_100.shape[0])"
   ]
  },
  {
   "cell_type": "code",
   "execution_count": 59,
   "metadata": {},
   "outputs": [
    {
     "name": "stdout",
     "output_type": "stream",
     "text": [
      "1258\n"
     ]
    }
   ],
   "source": [
    "# 4. Using `.isin()` select anyone that has the host name of Michael, David, John, and Daniel.\n",
    "# How many total are there that have those names\n",
    "df_mdjd = df[df['host_name'].isin(['Michael', 'David', 'John', 'Daniel'])]\n",
    "print(df_mdjd.shape[0])\n"
   ]
  },
  {
   "cell_type": "code",
   "execution_count": 60,
   "metadata": {},
   "outputs": [
    {
     "name": "stdout",
     "output_type": "stream",
     "text": [
      "     id                                               name  host_id  \\\n",
      "0  2595                              Skylit Midtown Castle     2845   \n",
      "1  3831  Whole flr w/private bdrm, bath & kitchen(pls r...     4869   \n",
      "2  5121                                    BlissArtsSpace!     7356   \n",
      "3  5136           Spacious Brooklyn Duplex, Patio + Garden     7378   \n",
      "4  5178                   Large Furnished Room Near B'way　     8967   \n",
      "\n",
      "     host_name neighbourhood_group       neighbourhood  latitude  longitude  \\\n",
      "0     Jennifer           Manhattan             Midtown  40.75362  -73.98377   \n",
      "1  LisaRoxanne            Brooklyn        Clinton Hill  40.68514  -73.95976   \n",
      "2        Garon            Brooklyn  Bedford-Stuyvesant  40.68688  -73.95596   \n",
      "3      Rebecca            Brooklyn         Sunset Park  40.66120  -73.99423   \n",
      "4     Shunichi           Manhattan      Hell's Kitchen  40.76489  -73.98493   \n",
      "\n",
      "         room_type  price  minimum_nights  number_of_reviews last_review  \\\n",
      "0  Entire home/apt    175               3                 48  2019-11-04   \n",
      "1  Entire home/apt     75               1                340  2020-08-01   \n",
      "2     Private room     60              29                 50  2019-12-02   \n",
      "3  Entire home/apt    175              14                  1  2014-01-02   \n",
      "4     Private room     65               2                473  2020-03-15   \n",
      "\n",
      "   reviews_per_month  calculated_host_listings_count  availability_365  \\\n",
      "0               0.37                               2               365   \n",
      "1               4.75                               1               265   \n",
      "2               0.37                               1               365   \n",
      "3               0.01                               1               295   \n",
      "4               3.44                               1               340   \n",
      "\n",
      "   adjusted_price  \n",
      "0             175  \n",
      "1              75  \n",
      "2              60  \n",
      "3             175  \n",
      "4              65  \n"
     ]
    }
   ],
   "source": [
    "# 5. Create a new column called `adjusted_price` that has $100 added to every listing in Williamsburg.  \n",
    "# The prices for all other listings should be the same as the were before. \n",
    "df['adjusted_price'] = np.where(df['neighbourhood'] == 'Williamsburg', df['price'] + 100, df['price'])\n",
    "print(df.head())\n"
   ]
  },
  {
   "cell_type": "code",
   "execution_count": 61,
   "metadata": {},
   "outputs": [
    {
     "name": "stdout",
     "output_type": "stream",
     "text": [
      "room_type\n",
      "Entire home/apt    51.578653\n",
      "Private room       45.444581\n",
      "Shared room         2.121349\n",
      "Hotel room          0.855417\n",
      "Name: proportion, dtype: float64\n"
     ]
    }
   ],
   "source": [
    "# 6. What % of the rooms are private, and what % of the rooms are shared.  \n",
    "\n",
    "print(df['room_type'].value_counts(normalize=True) * 100)"
   ]
  },
  {
   "cell_type": "markdown",
   "metadata": {},
   "source": [
    "# Exercise 3 - Grouping\n",
    "\n",
    "1. Using `groupby`, count how many listings are in each neighbourhood_group.\n",
    "\n",
    "\n",
    "2. Using `groupby`, find the mean price for each of the neighbourhood_groups. \n",
    "\n",
    "\n",
    "3. Using `groupby` and `.agg()`, find the min and max price for each of the neighbourhood_groups. \n",
    "\n",
    "\n",
    "4. Using `groupby`, find the median price for each room type in each neighbourhood_group.\n",
    "\n",
    "\n",
    "5. Using `groupby` and `.agg()`, find the count, min, max, mean, median, and std of the prices for each room type in each neighbourhood_group."
   ]
  },
  {
   "cell_type": "code",
   "execution_count": 62,
   "metadata": {},
   "outputs": [
    {
     "name": "stdout",
     "output_type": "stream",
     "text": [
      "neighbourhood_group\n",
      "Bronx             1183\n",
      "Brooklyn         18632\n",
      "Manhattan        20580\n",
      "Queens            5791\n",
      "Staten Island      341\n",
      "dtype: int64\n"
     ]
    }
   ],
   "source": [
    "# 1. Using `groupby`, count how many listings are in each neighbourhood_group.\n",
    "df_grouped = df.groupby('neighbourhood_group').size()\n",
    "\n",
    "print(df_grouped)\n"
   ]
  },
  {
   "cell_type": "code",
   "execution_count": 63,
   "metadata": {},
   "outputs": [
    {
     "name": "stdout",
     "output_type": "stream",
     "text": [
      "neighbourhood_group\n",
      "Bronx             92.751479\n",
      "Brooklyn         120.225258\n",
      "Manhattan        191.880466\n",
      "Queens            99.754965\n",
      "Staten Island    110.947214\n",
      "Name: price, dtype: float64\n"
     ]
    }
   ],
   "source": [
    "# 2. Using `groupby`, find the mean price for each of the neighbourhood_groups. \n",
    "df_grouped_mean = df.groupby('neighbourhood_group')['price'].mean()\n",
    "print(df_grouped_mean)\n"
   ]
  },
  {
   "cell_type": "code",
   "execution_count": 64,
   "metadata": {},
   "outputs": [
    {
     "name": "stdout",
     "output_type": "stream",
     "text": [
      "room_type\n",
      "Entire home/apt    199.395950\n",
      "Hotel room         275.015075\n",
      "Private room        91.453084\n",
      "Shared room         87.063830\n",
      "Name: price, dtype: float64\n"
     ]
    }
   ],
   "source": [
    "# 2.5. Using `groupby`, find the mean price for each room_type. \n",
    "df_grouped_mean_room = df.groupby('room_type')['price'].mean()\n",
    "print(df_grouped_mean_room)"
   ]
  },
  {
   "cell_type": "code",
   "execution_count": 65,
   "metadata": {},
   "outputs": [
    {
     "name": "stdout",
     "output_type": "stream",
     "text": [
      "                     min    max\n",
      "neighbourhood_group            \n",
      "Bronx                 16   1404\n",
      "Brooklyn               0  10000\n",
      "Manhattan              0  10000\n",
      "Queens                 0  10000\n",
      "Staten Island         19   1200\n"
     ]
    },
    {
     "name": "stderr",
     "output_type": "stream",
     "text": [
      "/var/folders/cn/wr644gtx54x4d9vqj39kp5sm0000gn/T/ipykernel_62237/3439632988.py:2: FutureWarning: The provided callable <built-in function min> is currently using SeriesGroupBy.min. In a future version of pandas, the provided callable will be used directly. To keep current behavior pass the string \"min\" instead.\n",
      "  df_grouped_min_max = df.groupby('neighbourhood_group')['price'].agg([min, max])\n",
      "/var/folders/cn/wr644gtx54x4d9vqj39kp5sm0000gn/T/ipykernel_62237/3439632988.py:2: FutureWarning: The provided callable <built-in function max> is currently using SeriesGroupBy.max. In a future version of pandas, the provided callable will be used directly. To keep current behavior pass the string \"max\" instead.\n",
      "  df_grouped_min_max = df.groupby('neighbourhood_group')['price'].agg([min, max])\n"
     ]
    }
   ],
   "source": [
    "# 3. Using `groupby` and `.agg()`, find the min and max price for each of the neighbourhood_groups. \n",
    "df_grouped_min_max = df.groupby('neighbourhood_group')['price'].agg([min, max])\n",
    "print(df_grouped_min_max)\n",
    "\n"
   ]
  },
  {
   "cell_type": "code",
   "execution_count": 66,
   "metadata": {},
   "outputs": [
    {
     "name": "stdout",
     "output_type": "stream",
     "text": [
      "neighbourhood_group  room_type      \n",
      "Bronx                Entire home/apt    138.004819\n",
      "                     Private room        68.419668\n",
      "                     Shared room         66.391304\n",
      "Brooklyn             Entire home/apt    171.587687\n",
      "                     Hotel room         147.300000\n",
      "                     Private room        71.291189\n",
      "                     Shared room         57.870091\n",
      "Manhattan            Entire home/apt    231.335572\n",
      "                     Hotel room         292.515670\n",
      "                     Private room       128.277069\n",
      "                     Shared room        111.735084\n",
      "Queens               Entire home/apt    150.168900\n",
      "                     Hotel room         139.058824\n",
      "                     Private room        69.972564\n",
      "                     Shared room         89.891892\n",
      "Staten Island        Entire home/apt    151.720930\n",
      "                     Private room        70.312883\n",
      "                     Shared room         46.000000\n",
      "Name: price, dtype: float64\n"
     ]
    }
   ],
   "source": [
    "# 4. Using `groupby`, find the mean price for each room_type in each neighbourhood_group.\n",
    "df_grouped_mean_room_neighbourhood = df.groupby(['neighbourhood_group', 'room_type'])['price'].mean()\n",
    "print(df_grouped_mean_room_neighbourhood)\n"
   ]
  },
  {
   "cell_type": "code",
   "execution_count": 67,
   "metadata": {},
   "outputs": [
    {
     "name": "stdout",
     "output_type": "stream",
     "text": [
      "                                     count  min    max        mean  median  \\\n",
      "neighbourhood_group room_type                                                \n",
      "Bronx               Entire home/apt    415   25   1404  138.004819   103.0   \n",
      "                    Private room       722   16    700   68.419668    55.0   \n",
      "                    Shared room         46   20    800   66.391304    44.0   \n",
      "Brooklyn            Entire home/apt   9112   20  10000  171.587687   135.0   \n",
      "                    Hotel room          30    0    399  147.300000   129.0   \n",
      "                    Private room      9159   10   2500   71.291189    60.0   \n",
      "                    Shared room        331   15   1500   57.870091    36.0   \n",
      "Manhattan           Entire home/apt  12209    0  10000  231.335572   165.0   \n",
      "                    Hotel room         351    0   2211  292.515670   210.0   \n",
      "                    Private room      7601   10  10000  128.277069    80.0   \n",
      "                    Shared room        419   10  10000  111.735084    60.0   \n",
      "Queens              Entire home/apt   2090   10  10000  150.168900   115.0   \n",
      "                    Hotel room          17    0    249  139.058824   149.0   \n",
      "                    Private room      3499   18   9000   69.972564    55.0   \n",
      "                    Shared room        185   14   3000   89.891892    40.0   \n",
      "Staten Island       Entire home/apt    172   39   1200  151.720930   111.0   \n",
      "                    Private room       163   20    800   70.312883    55.0   \n",
      "                    Shared room          6   19     82   46.000000    38.0   \n",
      "\n",
      "                                            std  \n",
      "neighbourhood_group room_type                    \n",
      "Bronx               Entire home/apt  126.032106  \n",
      "                    Private room      57.337866  \n",
      "                    Shared room      114.442703  \n",
      "Brooklyn            Entire home/apt  236.732843  \n",
      "                    Hotel room        91.153206  \n",
      "                    Private room      69.023165  \n",
      "                    Shared room       92.217618  \n",
      "Manhattan           Entire home/apt  410.306439  \n",
      "                    Hotel room       315.924085  \n",
      "                    Private room     448.677306  \n",
      "                    Shared room      502.728868  \n",
      "Queens              Entire home/apt  252.606739  \n",
      "                    Hotel room        50.743806  \n",
      "                    Private room     163.814468  \n",
      "                    Shared room      275.675158  \n",
      "Staten Island       Entire home/apt  147.518392  \n",
      "                    Private room      70.759593  \n",
      "                    Shared room       28.446441  \n"
     ]
    },
    {
     "name": "stderr",
     "output_type": "stream",
     "text": [
      "/var/folders/cn/wr644gtx54x4d9vqj39kp5sm0000gn/T/ipykernel_62237/624714612.py:3: FutureWarning: The provided callable <built-in function min> is currently using SeriesGroupBy.min. In a future version of pandas, the provided callable will be used directly. To keep current behavior pass the string \"min\" instead.\n",
      "  df_grouped_stats = df.groupby(['neighbourhood_group', 'room_type'])['price'].agg(['count', min, max, np.mean, np.median, np.std])\n",
      "/var/folders/cn/wr644gtx54x4d9vqj39kp5sm0000gn/T/ipykernel_62237/624714612.py:3: FutureWarning: The provided callable <built-in function max> is currently using SeriesGroupBy.max. In a future version of pandas, the provided callable will be used directly. To keep current behavior pass the string \"max\" instead.\n",
      "  df_grouped_stats = df.groupby(['neighbourhood_group', 'room_type'])['price'].agg(['count', min, max, np.mean, np.median, np.std])\n",
      "/var/folders/cn/wr644gtx54x4d9vqj39kp5sm0000gn/T/ipykernel_62237/624714612.py:3: FutureWarning: The provided callable <function mean at 0x106a48540> is currently using SeriesGroupBy.mean. In a future version of pandas, the provided callable will be used directly. To keep current behavior pass the string \"mean\" instead.\n",
      "  df_grouped_stats = df.groupby(['neighbourhood_group', 'room_type'])['price'].agg(['count', min, max, np.mean, np.median, np.std])\n",
      "/var/folders/cn/wr644gtx54x4d9vqj39kp5sm0000gn/T/ipykernel_62237/624714612.py:3: FutureWarning: The provided callable <function median at 0x106b8dbc0> is currently using SeriesGroupBy.median. In a future version of pandas, the provided callable will be used directly. To keep current behavior pass the string \"median\" instead.\n",
      "  df_grouped_stats = df.groupby(['neighbourhood_group', 'room_type'])['price'].agg(['count', min, max, np.mean, np.median, np.std])\n",
      "/var/folders/cn/wr644gtx54x4d9vqj39kp5sm0000gn/T/ipykernel_62237/624714612.py:3: FutureWarning: The provided callable <function std at 0x106a48680> is currently using SeriesGroupBy.std. In a future version of pandas, the provided callable will be used directly. To keep current behavior pass the string \"std\" instead.\n",
      "  df_grouped_stats = df.groupby(['neighbourhood_group', 'room_type'])['price'].agg(['count', min, max, np.mean, np.median, np.std])\n"
     ]
    }
   ],
   "source": [
    "# 5. Using `groupby` and `.agg()`, find the count, min, max, mean, median, and std of the prices \n",
    "# for each room type in each neighbourhood_group.\n",
    "df_grouped_stats = df.groupby(['neighbourhood_group', 'room_type'])['price'].agg(['count', min, max, np.mean, np.median, np.std])\n",
    "print(df_grouped_stats)\n",
    "\n",
    "\n",
    "\n"
   ]
  },
  {
   "cell_type": "markdown",
   "metadata": {},
   "source": [
    "# Load, Merge, and Export files.\n",
    "1. Load the `prices.csv` and the `n_listings.csv`\n",
    "    * Having an error..? Inspect the actual csv file if you're having trouble\n",
    "\n",
    "2. Do join that keeps all the records for each table.\n",
    "    * Neighbourhood groups should include ['Bronx', 'Brooklyn', 'Manhattan', 'Queens', 'Staten Island',\n",
    "       'LongIsland']\n",
    "\n",
    "       \n",
    "3. Save your joined csv as `joined.csv` into the data folder. \n",
    "\n",
    "\n",
    "4. Load your saved table and see if it looks the same or different that the DataFrame you used to create it. "
   ]
  },
  {
   "cell_type": "code",
   "execution_count": 68,
   "metadata": {},
   "outputs": [],
   "source": [
    "# 1. Load the `prices.csv` and the `n_listings.csv`\n",
    "df_prices = pd.read_csv('data/prices.csv')\n",
    "df_n_listings = pd.read_csv('data/n_listings.csv')"
   ]
  },
  {
   "cell_type": "code",
   "execution_count": 69,
   "metadata": {},
   "outputs": [
    {
     "name": "stdout",
     "output_type": "stream",
     "text": [
      "Index(['neighbourhood_group', ' mean_price'], dtype='object')\n",
      "Index(['neighbourhood_group;n_listings'], dtype='object')\n"
     ]
    }
   ],
   "source": [
    "# 2. Do join that keeps all the records for each table.\n",
    "print(df_prices.columns)\n",
    "print(df_n_listings.columns)\n"
   ]
  },
  {
   "cell_type": "code",
   "execution_count": 70,
   "metadata": {},
   "outputs": [
    {
     "name": "stdout",
     "output_type": "stream",
     "text": [
      "  neighbourhood_group   mean_price  n_listings\n",
      "0               Bronx    92.751479      1183.0\n",
      "1            Brooklyn   120.225258     18632.0\n",
      "2          LongIsland          NaN      4121.0\n",
      "3           Manhattan   191.880466     20580.0\n",
      "4              Queens    99.754965         NaN\n",
      "5       Staten Island   110.947214         NaN\n"
     ]
    }
   ],
   "source": [
    "# Split the 'neighbourhood_group_n_listings' column into two new columns\n",
    "df_n_listings[['neighbourhood_group', 'n_listings']] = df_n_listings['neighbourhood_group;n_listings'].str.split(';', expand=True)\n",
    "\n",
    "# Convert 'n_listings' to numeric if needed\n",
    "df_n_listings['n_listings'] = pd.to_numeric(df_n_listings['n_listings'], errors='coerce')\n",
    "\n",
    "# Drop the original combined column\n",
    "df_n_listings.drop(columns=['neighbourhood_group;n_listings'], inplace=True)\n",
    "\n",
    "# Perform the outer join\n",
    "result = df_prices.merge(df_n_listings, on='neighbourhood_group', how='outer')\n",
    "\n",
    "print(result)\n"
   ]
  },
  {
   "cell_type": "code",
   "execution_count": 71,
   "metadata": {},
   "outputs": [],
   "source": [
    "# 3. Save your joined csv as `joined.csv` into the data folder. \n",
    "result.to_csv('data/joined.csv', index=False)\n"
   ]
  },
  {
   "cell_type": "code",
   "execution_count": 72,
   "metadata": {},
   "outputs": [
    {
     "name": "stdout",
     "output_type": "stream",
     "text": [
      "  neighbourhood_group   mean_price  n_listings\n",
      "0               Bronx    92.751479      1183.0\n",
      "1            Brooklyn   120.225258     18632.0\n",
      "2          LongIsland          NaN      4121.0\n",
      "3           Manhattan   191.880466     20580.0\n",
      "4              Queens    99.754965         NaN\n",
      "5       Staten Island   110.947214         NaN\n"
     ]
    }
   ],
   "source": [
    "# 4. Load your newly saved file, see if it looks the same.  If not, try saving with argument `index=False`\n",
    "df_joined = pd.read_csv('data/joined.csv')\n",
    "print(df_joined)"
   ]
  },
  {
   "cell_type": "markdown",
   "metadata": {},
   "source": [
    "# Extra Credit\n",
    "Every question below this cell is extra credit and optional."
   ]
  },
  {
   "cell_type": "markdown",
   "metadata": {},
   "source": [
    "### 1. (Easy) Explore this new PandasAI Package and tell me what its all about because I've never used it. \n",
    "* https://www.youtube.com/watch?v=5w6eZaoDVVk&ab_channel=CodingIsFun  \n",
    "* See if you can use it on the listings.csv to find out some cool info. or answer some of the questions above. "
   ]
  },
  {
   "cell_type": "markdown",
   "metadata": {},
   "source": [
    "### 2. (Very Easy) Find other cool Panda packages / add ons and show us what they can do well. And how you installed them. "
   ]
  },
  {
   "cell_type": "markdown",
   "metadata": {},
   "source": [
    "### 3. (Medium) Use the grammys.csv data for the next section of questions.\n",
    "\n",
    "1. Who was won Album of the Year in 2016?\n",
    "\n",
    "\n",
    "2. Who won Best Rap Album in 2009?\n",
    "\n",
    "\n",
    "3. How many awards was Kendrick Lamar nomiated for, and how many did he win...?"
   ]
  },
  {
   "cell_type": "markdown",
   "metadata": {},
   "source": [
    "### (Hard) Load the Game Logs for 2022 and add the column names using a dictionary.  \n",
    "* [Link to the data page](https://www.retrosheet.org/gamelogs/)\n",
    "* [Link to the column names](https://procatinator.com/)\n",
    "* haha, gotta find them yourself!"
   ]
  },
  {
   "cell_type": "markdown",
   "metadata": {},
   "source": [
    "### (Extra Hard) Download the files for the past 5 years into a new folder and add them all into one data frame using pandas, then save that new file.\n",
    "* Try to not hard code in the file names. We want to do this programmatically because what if we want to add new/more file names in the future."
   ]
  },
  {
   "cell_type": "code",
   "execution_count": null,
   "metadata": {},
   "outputs": [],
   "source": []
  }
 ],
 "metadata": {
  "kernelspec": {
   "display_name": "Python 3 (ipykernel)",
   "language": "python",
   "name": "python3"
  },
  "language_info": {
   "codemirror_mode": {
    "name": "ipython",
    "version": 3
   },
   "file_extension": ".py",
   "mimetype": "text/x-python",
   "name": "python",
   "nbconvert_exporter": "python",
   "pygments_lexer": "ipython3",
   "version": "3.12.2"
  }
 },
 "nbformat": 4,
 "nbformat_minor": 4
}
